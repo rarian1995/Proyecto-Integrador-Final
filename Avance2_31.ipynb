{
 "cells": [
  {
   "cell_type": "markdown",
   "metadata": {
    "id": "BxTgRBcpJ9j1"
   },
   "source": [
    "# **ViTs para Agave – De Software a Hardware**\n",
    "\n",
    "\n",
    "### Integrantes del equipo N° #31:\n",
    "- Arian Yolanda Reyes Aguilar - A01795124\n",
    "- Oscar Nava Jiménez - A01745524\n",
    "- Bruno Sánchez García - A01378960\n",
    "\n",
    "### Asesor del Proyecto: Diego Concepción Villatoro Gerónimo\n",
    "\n",
    "### Director del Proyecto: Luis Eduardo Falcón Morales\n",
    "### Proyecto Integrador | Fecha de Entrega: 28/09/2025"
   ]
  },
  {
   "cell_type": "markdown",
   "metadata": {
    "id": "yQs8kqrnhSG9"
   },
   "source": [
    "### **Propósito de Proyecto**\n",
    "El proyecto tiene como objetivo implementar y validar un modelo de visión\n",
    "computacional basado en Vision Transformers (ViTs) para detectar\n",
    "automáticamente plantas de agave y evaluar su estado de salud mediante\n",
    "imágenes capturadas en campo. El modelo, desarrollado en PyTorch bajo la\n",
    "arquitectura bit-STED, ya ha sido probado exitosamente en software. Ahora se\n",
    "busca llevarlo a una plataforma embebida, específicamente una Raspberry Pi 5,\n",
    "para evaluar su rendimiento, eficiencia y viabilidad en condiciones reales con\n",
    "recursos limitados. Esta prueba en hardware permitirá determinar si la solución\n",
    "es apta para su implementación directa en el entorno agrícola.\n"
   ]
  },
  {
   "cell_type": "markdown",
   "metadata": {
    "id": "Rg_pFIWpRn3_"
   },
   "source": [
    "### **Contexto sobre Imagenes**"
   ]
  },
  {
   "cell_type": "markdown",
   "metadata": {
    "id": "YEq9Z_VYjyrh"
   },
   "source": [
    "El dataset consta de aproximadamente 2440 imágenes multiespectrales de tamaño 224x224 píxeles, capturadas en cinco campos agrícolas diferentes. Cada imagen está compuesta por múltiples bandas espectrales que incluyen azul (450 nm), verde (560 nm), rojo (650 nm), borde rojo (730 nm) y el infrarrojo cercano (840 nm). Estas imágenes fueron tomadas con drones equipados con sensores especializados, y están destinadas a permitir el análisis detallado de plantas de agave mediante técnicas de visión por computadora. El formato de las imágenes es TIFF multibanda, lo que permite conservar la información espectral necesaria para detectar y evaluar el estado de salud de las plantas."
   ]
  },
  {
   "cell_type": "markdown",
   "metadata": {},
   "source": [
    "### **Objetivo de Actividad**"
   ]
  },
  {
   "cell_type": "markdown",
   "metadata": {},
   "source": [
    "Transformar las imágenes multiespectrales crudas en características útiles para el modelo bit-STED, mediante la generación de índices espectrales, normalización y reducción dimensional con PCA. Estas técnicas buscan mejorar la eficiencia y precisión del modelo, optimizando su rendimiento para su implementación en una Raspberry Pi 5. Además, se justificará y evaluará la selección y extracción de características, siguiendo la metodología CRISP-ML, para asegurar un preprocesamiento adecuado y adaptado a un entorno agrícola."
   ]
  },
  {
   "cell_type": "markdown",
   "metadata": {},
   "source": [
    "### Ingeniería de Características para Dataset de Detección de Objetos (Imágenes + Etiquetas YOLO)\n",
    "\n",
    "Este notebook extrae **características numéricas** significativas a partir de imágenes y sus anotaciones de cuadros delimitadores asociadas (formato YOLO). Soporta:\n",
    "\n",
    "- **Características basadas en color y forma** (estadísticas por canal, geometría de cajas)  \n",
    "- **Características de disposición espacial** (posición y dispersión de cajas)  \n",
    "- **Características de textura** mediante HOG (Histograma de Gradientes Orientados)  \n",
    "\n",
    "#### Estructura de Dataset Asumida:\n",
    "\n",
    "```plaintext\n",
    "Zones_cbbox_dataset_10-20250928T004644Z-1-001/\n",
    "└── Zones_cbbox_dataset_10/\n",
    "    └── train/\n",
    "        ├── images/   ← .tif files\n",
    "        └── labels/   ← .txt files (YOLO format with 4 entries per line)\n",
    "```\n",
    "\n",
    "### ¿Qué son las Características de Textura (HOG)?\n",
    "\n",
    "**HOG** (Histograma de Gradientes Orientados) captura:  \n",
    "- Orientaciones y frecuencias locales de bordes  \n",
    "- Patrones de textura detallados  \n",
    "- Útil para detectar regiones estructuradas como líneas, esquinas y formas de objetos  \n",
    "\n",
    "### ¿Por qué incluirlas?  \n",
    "- Proporcionan información **complementaria** a las estadísticas de píxeles y geometría de cuadros  \n",
    "- Mejoran el desempeño en modelos tradicionales de ML (e.g., SVM, Random Forest)  \n",
    "- Especialmente útiles cuando no se usan CNNs para extracción directa de características  "
   ]
  },
  {
   "cell_type": "markdown",
   "metadata": {},
   "source": [
    "Importación de Librerías y Configuración de Rutas"
   ]
  },
  {
   "cell_type": "code",
   "execution_count": 1,
   "metadata": {
    "ExecuteTime": {
     "end_time": "2025-09-29T00:37:07.529619800Z",
     "start_time": "2025-09-29T00:37:07.263670300Z"
    },
    "id": "yY9OVb6AQPsQ"
   },
   "outputs": [],
   "source": [
    "# Importamos Librerías\n",
    "import os\n",
    "import numpy as np\n",
    "import pandas as pd\n",
    "import cv2\n",
    "import matplotlib.pyplot as plt\n",
    "from glob import glob\n",
    "from collections import Counter\n",
    "from sklearn.preprocessing import MinMaxScaler\n",
    "from sklearn.decomposition import PCA\n",
    "from skimage.feature import hog\n",
    "from skimage import io as skio\n",
    "import rasterio"
   ]
  },
  {
   "cell_type": "markdown",
   "metadata": {
    "id": "vVyvRlMCOVPG"
   },
   "source": [
    "Cargar Lista de Imágenes y Etiquetas"
   ]
  },
  {
   "cell_type": "code",
   "execution_count": 2,
   "metadata": {
    "ExecuteTime": {
     "end_time": "2025-09-29T00:37:19.673332600Z",
     "start_time": "2025-09-29T00:37:19.617162500Z"
    },
    "id": "1X1FwLCRmSTH"
   },
   "outputs": [
    {
     "name": "stdout",
     "output_type": "stream",
     "text": [
      "Total Imágenes: 2440\n",
      "Total Etiquetas: 2440\n"
     ]
    }
   ],
   "source": [
    "# Definir Rutas de Imágenes y Etiquetas\n",
    "IMAGES_DIR = \"Zones_cbbox_dataset_10/train/images\"\n",
    "LABELS_DIR = \"Zones_cbbox_dataset_10/train/labels\"\n",
    "\n",
    "# Obtener lista de imágenes TIFF\n",
    "imagenes = sorted(glob(os.path.join(IMAGES_DIR, \"*.tif\")))\n",
    "etiquetas = sorted(glob(os.path.join(LABELS_DIR, \"*.txt\")))\n",
    "\n",
    "# Mostrar total de imágenes y etiquetas\n",
    "print(f\"Total Imágenes: {len(imagenes)}\")\n",
    "print(f\"Total Etiquetas: {len(etiquetas)}\")\n"
   ]
  },
  {
   "cell_type": "markdown",
   "metadata": {
    "id": "KO4QrZL6o155"
   },
   "source": [
    "Estadísticas de Resolución y Canales de las Imágenes"
   ]
  },
  {
   "cell_type": "code",
   "execution_count": 3,
   "metadata": {
    "ExecuteTime": {
     "end_time": "2025-09-29T00:37:27.601770200Z",
     "start_time": "2025-09-29T00:37:21.858298100Z"
    },
    "id": "oGP7Paz5o2Cr"
   },
   "outputs": [
    {
     "name": "stdout",
     "output_type": "stream",
     "text": [
      "Total Imágenes Analizadas: 2440\n",
      "Imágenes no Leídas: 0\n",
      "\n",
      "Estadísticas de Resolución:\n",
      " - Promedio: 224 x 224 px\n",
      " - Mínimo: 224 x 224 px\n",
      " - Máximo: 224 x 224 px\n",
      "\n",
      "Distribución de Canales por Imagen:\n",
      " - 3 Canales: 2440 Imágenes\n"
     ]
    }
   ],
   "source": [
    "# Inicializar listas\n",
    "dimensions = []\n",
    "num_channels = []\n",
    "images_unreadable = []\n",
    "\n",
    "# Procesar cada imagen\n",
    "for img_path in imagenes:\n",
    "    img = cv2.imread(img_path, cv2.IMREAD_UNCHANGED)\n",
    "    if img is None:\n",
    "        images_unreadable.append(img_path)\n",
    "        continue\n",
    "\n",
    "    height, width = img.shape[:2]\n",
    "    channels = img.shape[2] if len(img.shape) == 3 else 1\n",
    "\n",
    "    dimensions.append((width, height))\n",
    "    num_channels.append(channels)\n",
    "\n",
    "# Mostrar estadísticas\n",
    "print(f\"Total Imágenes Analizadas: {len(dimensions)}\")\n",
    "print(f\"Imágenes no Leídas: {len(images_unreadable)}\")\n",
    "\n",
    "if dimensions:\n",
    "    widths, heights = zip(*dimensions)\n",
    "    print(\"\\nEstadísticas de Resolución:\")\n",
    "    print(f\" - Promedio: {int(np.mean(widths))} x {int(np.mean(heights))} px\")\n",
    "    print(f\" - Mínimo: {min(widths)} x {min(heights)} px\")\n",
    "    print(f\" - Máximo: {max(widths)} x {max(heights)} px\")\n",
    "\n",
    "if num_channels:\n",
    "    distribution = Counter(num_channels)\n",
    "    print(\"\\nDistribución de Canales por Imagen:\")\n",
    "    for c, count in distribution.items():\n",
    "        print(f\" - {c} Canales: {count} Imágenes\")\n"
   ]
  },
  {
   "cell_type": "markdown",
   "metadata": {},
   "source": [
    "Funciones para Calcular Indices Espectrales Multibanda"
   ]
  },
  {
   "cell_type": "code",
   "execution_count": 4,
   "metadata": {},
   "outputs": [],
   "source": [
    "def calculate_spectral_indices(img):\n",
    "    # bands, height, width\n",
    "    R = img[0].astype(np.float32)\n",
    "    G = img[1].astype(np.float32)\n",
    "    B = img[2].astype(np.float32)\n",
    "\n",
    "    eps = 1e-6\n",
    "\n",
    "    ExG = 2 * G - R - B\n",
    "    ExR = 1.4 * R - G\n",
    "    GRI = (G + eps) / (R + eps)\n",
    "    VARI = (G - R) / (G + R - B + eps)\n",
    "\n",
    "    indices_stats = {}\n",
    "    for name, index in zip(['ExG', 'ExR', 'GRI', 'VARI'], [ExG, ExR, GRI, VARI]):\n",
    "        indices_stats[f\"{name}_mean\"] = np.mean(index)\n",
    "        indices_stats[f\"{name}_std\"] = np.std(index)\n",
    "        indices_stats[f\"{name}_min\"] = np.min(index)\n",
    "        indices_stats[f\"{name}_max\"] = np.max(index)\n",
    "\n",
    "    return indices_stats"
   ]
  },
  {
   "cell_type": "markdown",
   "metadata": {},
   "source": [
    "Funciones para Calcular PCA"
   ]
  },
  {
   "cell_type": "code",
   "execution_count": 5,
   "metadata": {},
   "outputs": [],
   "source": [
    "def calculate_pca_variance(img):\n",
    "    # Reshape imagen para PCA: pixeles x bandas\n",
    "    pixels = img.reshape(img.shape[0], -1).T\n",
    "    # Centrar datos\n",
    "    pixels -= np.mean(pixels, axis=0)\n",
    "    # Covarianza\n",
    "    cov = np.cov(pixels, rowvar=False)\n",
    "    # Valores propios\n",
    "    eigvals, _ = np.linalg.eigh(cov)\n",
    "    eigvals = np.flip(np.sort(eigvals))\n",
    "    # Normalizar\n",
    "    eigvals /= eigvals.sum()\n",
    "    return {\"PC1_var\": eigvals[0], \"PC2_var\": eigvals[1], \"PC3_var\": eigvals[2]}"
   ]
  },
  {
   "cell_type": "markdown",
   "metadata": {},
   "source": [
    "Función para Parsear Etiquetas YOLO"
   ]
  },
  {
   "cell_type": "code",
   "execution_count": 6,
   "metadata": {},
   "outputs": [],
   "source": [
    "def parse_yolo_labels(txt):\n",
    "    boxes = []\n",
    "    for line in txt.strip().split(\"\\n\"):\n",
    "        parts = line.strip().split()\n",
    "        if len(parts) != 4:\n",
    "            continue\n",
    "        cls, xc, yc, size = map(float, parts)\n",
    "        boxes.append({\n",
    "            \"class\": int(cls),\n",
    "            \"x_center\": xc,\n",
    "            \"y_center\": yc,\n",
    "            \"width\": size,\n",
    "            \"height\": size,\n",
    "            \"area\": size * size\n",
    "        })\n",
    "    return boxes"
   ]
  },
  {
   "cell_type": "markdown",
   "metadata": {},
   "source": [
    "Extracción de Características"
   ]
  },
  {
   "cell_type": "code",
   "execution_count": 7,
   "metadata": {},
   "outputs": [],
   "source": [
    "features = []\n",
    "\n",
    "for img_path in imagenes:\n",
    "    name = os.path.splitext(os.path.basename(img_path))[0]\n",
    "    label_path = os.path.join(LABELS_DIR, f\"{name}.txt\")\n",
    "    if not os.path.exists(label_path):\n",
    "        print(f\"[!] Etiqueta faltante para {name}\")\n",
    "        continue\n",
    "\n",
    "    # Leer imagen multibanda con rasterio\n",
    "    with rasterio.open(img_path) as src:\n",
    "        img = src.read()\n",
    "\n",
    "    h, w = img.shape[1:]\n",
    "    aspect_ratio = w / h if h > 0 else 0\n",
    "\n",
    "    # Índices RGB y PCA\n",
    "    indices = calculate_spectral_indices(img)\n",
    "    pca_var = calculate_pca_variance(img)\n",
    "\n",
    "    # Preparar imagen RGB para HOG\n",
    "    rgb_img = img[:3].transpose(1, 2, 0)\n",
    "\n",
    "    # Normalizar y convertir a uint8 para HOG\n",
    "    if rgb_img.dtype != np.uint8:\n",
    "        rgb_min, rgb_max = rgb_img.min(), rgb_img.max()\n",
    "        if rgb_max > rgb_min:\n",
    "            rgb_img = ((rgb_img - rgb_min) / (rgb_max - rgb_min) * 255).astype(np.uint8)\n",
    "        else:\n",
    "            rgb_img = np.zeros_like(rgb_img, dtype=np.uint8)\n",
    "\n",
    "    # Redimensionar y convertir a escala de grises\n",
    "    rgb_img_resized = cv2.resize(rgb_img, (128, 128))\n",
    "    gray = cv2.cvtColor(rgb_img_resized, cv2.COLOR_RGB2GRAY)\n",
    "\n",
    "    # Calcular HOG\n",
    "    hog_feat, _ = hog(\n",
    "        gray,\n",
    "        pixels_per_cell=(16, 16),\n",
    "        cells_per_block=(1, 1),\n",
    "        visualize=True,\n",
    "        feature_vector=True\n",
    "    )\n",
    "\n",
    "    if hog_feat.size > 0:\n",
    "        hog_mean, hog_std = hog_feat.mean(), hog_feat.std()\n",
    "    else:\n",
    "        hog_mean, hog_std = 0.0, 0.0\n",
    "\n",
    "    # Leer etiquetas YOLO\n",
    "    with open(label_path, \"r\") as f:\n",
    "        boxes = parse_yolo_labels(f.read())\n",
    "\n",
    "    if boxes:\n",
    "        widths = [b[\"width\"] for b in boxes]\n",
    "        heights = [b[\"height\"] for b in boxes]\n",
    "        areas = [b[\"area\"] for b in boxes]\n",
    "        x_centers = [b[\"x_center\"] for b in boxes]\n",
    "        y_centers = [b[\"y_center\"] for b in boxes]\n",
    "    else:\n",
    "        widths = heights = areas = x_centers = y_centers = [0]\n",
    "\n",
    "    features.append({\n",
    "        \"image_name\": name,\n",
    "        \"img_width\": w,\n",
    "        \"img_height\": h,\n",
    "        \"hog_mean\": hog_mean,\n",
    "        \"hog_std\": hog_std,\n",
    "        \"aspect_ratio\": aspect_ratio,\n",
    "        \"num_boxes\": len(boxes),\n",
    "        \"avg_box_width\": np.mean(widths),\n",
    "        \"avg_box_height\": np.mean(heights),\n",
    "        \"avg_box_area\": np.mean(areas),\n",
    "        \"avg_x_center\": np.mean(x_centers),\n",
    "        \"avg_y_center\": np.mean(y_centers),\n",
    "        **indices,\n",
    "        **(pca_var or {})\n",
    "    })"
   ]
  },
  {
   "cell_type": "code",
   "execution_count": 8,
   "metadata": {},
   "outputs": [
    {
     "name": "stdout",
     "output_type": "stream",
     "text": [
      "\n",
      "Features extraídas:\n",
      "  image_name  img_width  img_height  hog_mean   hog_std  aspect_ratio  \\\n",
      "0       1001        224         224  0.328323  0.057578           1.0   \n",
      "1       1002        224         224  0.212772  0.166267           1.0   \n",
      "2       1003        224         224  0.137996  0.176930           1.0   \n",
      "3       1004        224         224  0.291943  0.124352           1.0   \n",
      "4       1005        224         224  0.333099  0.012491           1.0   \n",
      "\n",
      "   num_boxes  avg_box_width  avg_box_height  avg_box_area  ...   GRI_std  \\\n",
      "0         11       0.047540        0.047540      0.002463  ...  0.342678   \n",
      "1          5       0.049341        0.049341      0.002510  ...  0.260137   \n",
      "2          3       0.045078        0.045078      0.002055  ...  0.228289   \n",
      "3          7       0.039188        0.039188      0.001655  ...  0.369939   \n",
      "4         12       0.047772        0.047772      0.002492  ...  0.364056   \n",
      "\n",
      "    GRI_min   GRI_max  VARI_mean  VARI_std   VARI_min   VARI_max   PC1_var  \\\n",
      "0  0.538878  2.296023   0.049209  0.259256 -14.875617  16.384729  0.737082   \n",
      "1  0.570851  2.245592  -0.002744  0.171062  -0.902649   0.804298  0.926652   \n",
      "2  0.554336  2.576947   0.020064  0.136250  -0.633001   0.926204  0.932517   \n",
      "3  0.565528  2.423514   0.016878  0.229022  -0.787834   0.771279  0.831220   \n",
      "4  0.585409  2.282092   0.074328  0.232013  -2.866683   0.800924  0.577626   \n",
      "\n",
      "    PC2_var   PC3_var  \n",
      "0  0.244721  0.018197  \n",
      "1  0.067338  0.006010  \n",
      "2  0.063107  0.004376  \n",
      "3  0.158801  0.009979  \n",
      "4  0.389243  0.033130  \n",
      "\n",
      "[5 rows x 31 columns]\n"
     ]
    }
   ],
   "source": [
    "df_features = pd.DataFrame(features)\n",
    "print(\"\\nFeatures extraídas:\")\n",
    "print(df_features.head())\n"
   ]
  },
  {
   "cell_type": "markdown",
   "metadata": {},
   "source": [
    " Gráfico de Distribución"
   ]
  },
  {
   "cell_type": "code",
   "execution_count": 9,
   "metadata": {},
   "outputs": [
    {
     "data": {
      "image/png": "[encoded data removed]",
      "text/plain": [
       "<Figure size 1200x800 with 4 Axes>"
      ]
     },
     "metadata": {},
     "output_type": "display_data"
    }
   ],
   "source": [
    "# Índices a graficar\n",
    "indices_to_plot = [\"ExG_mean\", \"ExR_mean\", \"GRI_mean\", \"VARI_mean\"]\n",
    "\n",
    "# Crear figura\n",
    "fig, axes = plt.subplots(2, 2, figsize=(12, 8))\n",
    "axes = axes.flatten()\n",
    "\n",
    "# Generar histogramas\n",
    "for i, idx in enumerate(indices_to_plot):\n",
    "    if idx in df_features.columns:\n",
    "        axes[i].hist(df_features[idx], bins=30, alpha=0.7, color=\"#56C958\", edgecolor='black')\n",
    "        axes[i].set_title(f\"Distribución de {idx}\")\n",
    "        axes[i].set_xlabel(idx)\n",
    "        axes[i].set_ylabel(\"Frecuencia\")\n",
    "        axes[i].set_facecolor('black') \n",
    "\n",
    "# Ajustar diseño\n",
    "plt.tight_layout()\n",
    "plt.show()"
   ]
  },
  {
   "cell_type": "markdown",
   "metadata": {},
   "source": [
    "Conclusion"
   ]
  },
  {
   "cell_type": "markdown",
   "metadata": {},
   "source": [
    "Con base en los resultados obtenidos tras la extracción de características, se puede concluir que el proceso de preparación de datos ha logrado generar un conjunto de atributos numéricos representativos y variados para cada imagen multiespectral. Entre las características extraídas se incluyen métricas geométricas de las cajas delimitadoras (como tamaño promedio, área y cantidad de objetos detectados), propiedades de textura (HOG), y una diversidad de índices espectrales (ExG, ExR, GRI, VARI), así como componentes principales obtenidos mediante PCA. Estas variables presentan una variabilidad que refleja diferencias relevantes entre imágenes, lo cual es crucial para tareas posteriores de clasificación o detección. La inclusión de múltiples tipos de atributos (geométricos, espectrales y de textura) permite capturar información complementaria, lo que puede mejorar el desempeño de modelos de aprendizaje automático. En el contexto de la metodología CRISP-ML, esta etapa de preparación de los datos ha sido completada de forma sistemática, asegurando que el dataset resultante esté listo para fases posteriores como modelado y evaluación."
   ]
  },
  {
   "cell_type": "markdown",
   "metadata": {},
   "source": [
    "Referencias"
   ]
  },
  {
   "cell_type": "markdown",
   "metadata": {},
   "source": [
    "Dalal, N., & Triggs, B. (2005). Histograms of oriented gradients for human detection. In Proceedings of the 2005 IEEE Computer Society Conference on Computer Vision and Pattern Recognition (CVPR'05) (Vol. 1, pp. 886–893). IEEE. https://doi.org/10.1109/CVPR.2005.177\n",
    "\n",
    "van der Walt, S., Schönberger, J. L., Nunez-Iglesias, J., Boulogne, F., Warner, J. D., Yager, N., Gouillart, E., Yu, T., & the scikit-image contributors. (2014). scikit-image: Image processing in Python. PeerJ, 2, e453. https://doi.org/10.7717/peerj.453\n",
    "\n",
    "Ultralytics. (2023). YOLOv5 by Ultralytics [Computer software]. GitHub. https://github.com/ultralytics/yolov5\n",
    "\n",
    "Karpathy, A., & Li, F. F. (n.d.). CS231n: Convolutional Neural Networks for Visual Recognition. Stanford University. https://cs231n.github.io/\n",
    "\n",
    "Howard, J., & Gugger, S. (2020). Practical Deep Learning for Coders [Online course]. fast.ai. https://course.fast.ai/"
   ]
  }
 ],
 "metadata": {
  "accelerator": "GPU",
  "colab": {
   "gpuType": "T4",
   "provenance": []
  },
  "kernelspec": {
   "display_name": "Python 3",
   "language": "python",
   "name": "python3"
  },
  "language_info": {
   "codemirror_mode": {
    "name": "ipython",
    "version": 3
   },
   "file_extension": ".py",
   "mimetype": "text/x-python",
   "name": "python",
   "nbconvert_exporter": "python",
   "pygments_lexer": "ipython3",
   "version": "3.12.3"
  }
 },
 "nbformat": 4,
 "nbformat_minor": 0
}
